{
 "cells": [
  {
   "cell_type": "markdown",
   "metadata": {
    "colab_type": "text",
    "id": "AA0gTEpMx-C9"
   },
   "source": [
    "The below cell is what I used to download the images off the CSV. I filtered out for non-ASCII characters.\n",
    "Note: I did some preprocessing on the CSV to remove all the not-valid URLs (there were only 3 in initial CSV).\n",
    "\n",
    "The below code is commented out so that it doesn't interfere with Jupyter notebook running."
   ]
  },
  {
   "cell_type": "code",
   "execution_count": 7,
   "metadata": {
    "colab": {
     "base_uri": "https://localhost:8080/",
     "height": 235
    },
    "colab_type": "code",
    "id": "2HwZkz_LospV",
    "outputId": "c47033f2-d90b-48fa-b8d7-b0cc66f8200b"
   },
   "outputs": [
    {
     "data": {
      "text/plain": [
       "\"\\nimport urllib.request\\nimport csv\\nimport os\\nfrom urllib.parse import urlparse\\nimport shutil\\n\\ncsv_directory = 'C:/Users/usaid/Desktop/FashionTrends/'\\nimage_dir = 'C:/Users/usaid/Desktop/FashionTrends/images/'\\n\\nwith open(csv_directory + 'image_url.csv', newline='') as file:\\n    reader = csv.reader(file, delimiter=',')\\n    for row in reader:\\n        if row[1] != 'image url':\\n            try:\\n                os.path.basename(urlparse(row[1]).path).encode('ascii')\\n            except UnicodeEncodeError:\\n                pass  # string is not ascii\\n            else:\\n                with urllib.request.urlopen(row[1]) as response, open(image_dir + os.path.basename(urlparse(row[1]).path), 'wb') as out_file:\\n                    shutil.copyfileobj(response, out_file)\\n                    print(os.path.basename(urlparse(row[1]).path))\\n                pass  # string is ascii\\n\""
      ]
     },
     "execution_count": 7,
     "metadata": {},
     "output_type": "execute_result"
    }
   ],
   "source": [
    "'''\n",
    "import urllib.request\n",
    "import csv\n",
    "import os\n",
    "from urllib.parse import urlparse\n",
    "import shutil\n",
    "\n",
    "csv_directory = 'C:/Users/usaid/Desktop/FashionTrends/'\n",
    "image_dir = 'C:/Users/usaid/Desktop/FashionTrends/images/'\n",
    "\n",
    "with open(csv_directory + 'image_url.csv', newline='') as file:\n",
    "    reader = csv.reader(file, delimiter=',')\n",
    "    for row in reader:\n",
    "        if row[1] != 'image url':\n",
    "            try:\n",
    "                os.path.basename(urlparse(row[1]).path).encode('ascii')\n",
    "            except UnicodeEncodeError:\n",
    "                pass  # string is not ascii\n",
    "            else:\n",
    "                with urllib.request.urlopen(row[1]) as response, open(image_dir + os.path.basename(urlparse(row[1]).path), 'wb') as out_file:\n",
    "                    shutil.copyfileobj(response, out_file)\n",
    "                    print(os.path.basename(urlparse(row[1]).path))\n",
    "                pass  # string is ascii\n",
    "'''"
   ]
  },
  {
   "cell_type": "markdown",
   "metadata": {
    "colab_type": "text",
    "id": "7YZu0_igy56q"
   },
   "source": [
    "I used DeepLabv3 for image segmentation.\n",
    "https://github.com/bonlime/keras-deeplab-v3-plus\n",
    "This needs to be downloaded to the same folder the code is running in (the library comes with pre-trained weights, so no installation stuff besides the prerequisite Keras/Tensorflow)."
   ]
  },
  {
   "cell_type": "code",
   "execution_count": 8,
   "metadata": {
    "collapsed": true
   },
   "outputs": [],
   "source": [
    "# To Download Keras-DeepLab-v3\n",
    "#!git clone https://github.com/bonlime/keras-deeplab-v3-plus"
   ]
  },
  {
   "cell_type": "code",
   "execution_count": 9,
   "metadata": {
    "colab": {},
    "colab_type": "code",
    "id": "s41VCPBZzRtN"
   },
   "outputs": [
    {
     "name": "stdout",
     "output_type": "stream",
     "text": [
      "Initialized Pipeline\n",
      "Finished\n"
     ]
    }
   ],
   "source": [
    "import cv2\n",
    "import glob\n",
    "from model import Deeplabv3\n",
    "import numpy as np\n",
    "import matplotlib.pyplot as plt\n",
    "import os\n",
    "\n",
    "#Put in your directory where images are located.\n",
    "image_dir = \"C:/Users/usaid/Desktop/FashionTrends/images/ChicImages_1_75/\"\n",
    "images = glob.glob(image_dir + \"*.jpg\")\n",
    "\n",
    "deeplab_model = Deeplabv3()\n",
    "print(\"Initialized Pipeline\")\n",
    "#fig, ax = plt.subplots(6, 3);\n",
    "i = 0\n",
    "for img in images:\n",
    "    image = plt.imread(img)\n",
    "    w, h, _ = image.shape\n",
    "    ratio = 512. / np.max([w,h])\n",
    "    resized_original = cv2.resize(image,(int(ratio*h),int(ratio*w)))\n",
    "    resized = resized_original / 127.5 - 1.\n",
    "    pad_x = int(512 - resized.shape[0])\n",
    "    pad_y = int(512 - resized.shape[1])\n",
    "    resized2 = np.pad(resized,((0,pad_x),(0,pad_y),(0,0)),mode='constant')\n",
    "    res = deeplab_model.predict(np.expand_dims(resized2,0))\n",
    "    labels = np.argmax(res.squeeze(),-1)\n",
    "    np.place(labels, labels != 15, [0])\n",
    "    masked_image = cv2.bitwise_and(resized_original, resized_original, mask=labels[:512 - pad_x, :512 - pad_y].astype(np.uint8))\n",
    "    #ax[i, 0].imshow(labels[:512 - pad_x, :512 - pad_y])\n",
    "    #ax[i, 1].imshow(image)\n",
    "    #ax[i, 2].imshow(masked_image)\n",
    "    cv2.cvtColor(masked_image, cv2.COLOR_RGB2BGR, masked_image)\n",
    "    \n",
    "    # The image_dir + out/ directory needs to already be there before this works\n",
    "    cv2.imwrite(image_dir + \"out/\" + os.path.basename(img), masked_image)\n",
    "    i += 1\n",
    "print(\"Finished\")\n",
    "#plt.show()"
   ]
  }
 ],
 "metadata": {
  "accelerator": "GPU",
  "colab": {
   "collapsed_sections": [],
   "name": "FashionTrends.ipynb",
   "provenance": [],
   "toc_visible": true,
   "version": "0.3.2"
  },
  "kernelspec": {
   "display_name": "Python 3",
   "language": "python",
   "name": "python3"
  },
  "language_info": {
   "codemirror_mode": {
    "name": "ipython",
    "version": 3
   },
   "file_extension": ".py",
   "mimetype": "text/x-python",
   "name": "python",
   "nbconvert_exporter": "python",
   "pygments_lexer": "ipython3",
   "version": "3.6.3"
  }
 },
 "nbformat": 4,
 "nbformat_minor": 1
}
